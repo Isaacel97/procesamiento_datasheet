{
 "cells": [
  {
   "cell_type": "code",
   "execution_count": null,
   "metadata": {},
   "outputs": [],
   "source": [
    "# import libraries\n",
    "import pandas as pd\n",
    "import numpy as np\n",
    "import matplotlib.pyplot as plt\n",
    "import seaborn as sns\n",
    "from sklearn.model_selection import train_test_split\n",
    "from sklearn.linear_model import LinearRegression\n",
    "import os"
   ]
  },
  {
   "cell_type": "code",
   "execution_count": null,
   "metadata": {},
   "outputs": [],
   "source": [
    "# read csv file\n",
    "ventas = pd.read_csv(filepath_or_buffer= \"/Users/raul/Documents/Isaac/uteq/3ro/bd/Ventas.csv\")"
   ]
  },
  {
   "cell_type": "code",
   "execution_count": null,
   "metadata": {},
   "outputs": [],
   "source": [
    "#Seleccion de datos relevantes para analisis de ventas por sucursal por año\n",
    "sucVentas = ventas.loc[:, ['id_Sucursal', 'FechaPago', 'Monto_total']]"
   ]
  },
  {
   "cell_type": "code",
   "execution_count": null,
   "metadata": {},
   "outputs": [],
   "source": [
    "sucVentas.dtypes"
   ]
  },
  {
   "cell_type": "code",
   "execution_count": null,
   "metadata": {},
   "outputs": [],
   "source": [
    "# Correcion de errores estructurales\n",
    "sucVentas['Monto_total'] = sucVentas['Monto_total'].str.replace('$', '').str.replace(',', '').astype(float)\n",
    "sucVentas['FechaPago'] = pd.to_datetime(sucVentas['FechaPago'], format='%d/%m/%Y')\n",
    "sucVentas['anio'] = sucVentas['FechaPago'].dt.year"
   ]
  },
  {
   "cell_type": "code",
   "execution_count": null,
   "metadata": {},
   "outputs": [],
   "source": [
    "sucVentas.dtypes"
   ]
  },
  {
   "cell_type": "code",
   "execution_count": null,
   "metadata": {},
   "outputs": [],
   "source": [
    "# Diagrama de caja de la columna \"Monto_total\"\n",
    "plt.figure(figsize=(8, 6))\n",
    "plt.boxplot(sucVentas['Monto_total'])\n",
    "plt.title('Diagrama de Caja de Monto_total')\n",
    "plt.show()"
   ]
  },
  {
   "cell_type": "code",
   "execution_count": null,
   "metadata": {},
   "outputs": [],
   "source": [
    "# Gráfico de dispersión de la columna \"Monto_total\" vs \"id_Sucursal\"\n",
    "plt.scatter(sucVentas['id_Sucursal'], sucVentas['Monto_total'])\n",
    "plt.xlabel('Días')\n",
    "plt.ylabel('Monto_total')\n",
    "plt.title('Gráfico de Dispersión')\n",
    "plt.show()"
   ]
  },
  {
   "cell_type": "code",
   "execution_count": null,
   "metadata": {},
   "outputs": [],
   "source": [
    "# Histograma de la columna \"Monto_total\"\n",
    "sns.histplot(sucVentas['Monto_total'], kde=True)\n",
    "plt.xlabel('Monto_total')\n",
    "plt.title('Histograma con Densidad de Monto_total')\n",
    "plt.show()"
   ]
  },
  {
   "cell_type": "code",
   "execution_count": null,
   "metadata": {},
   "outputs": [],
   "source": [
    "datos_faltantes = sucVentas.isnull().sum()\n",
    "print(datos_faltantes)"
   ]
  },
  {
   "cell_type": "code",
   "execution_count": null,
   "metadata": {},
   "outputs": [],
   "source": [
    "duplicados = sucVentas.duplicated()\n",
    "print(duplicados)"
   ]
  },
  {
   "cell_type": "code",
   "execution_count": null,
   "metadata": {},
   "outputs": [],
   "source": [
    "año_actual = 2023  # Año actual\n",
    "año_siguiente = 2024  # Año siguiente\n",
    "datos_año_actual = sucVentas[sucVentas['anio'] == año_actual]\n",
    "datos_año_siguiente = sucVentas[sucVentas['anio'] == año_siguiente]"
   ]
  },
  {
   "cell_type": "code",
   "execution_count": null,
   "metadata": {},
   "outputs": [],
   "source": [
    "datos_agrupados = datos_año_actual.groupby(['id_Sucursal', 'anio'])['Monto_total'].sum().reset_index()"
   ]
  },
  {
   "cell_type": "code",
   "execution_count": null,
   "metadata": {},
   "outputs": [],
   "source": [
    "sucVentas.to_csv('sucVentas_preprocesados.csv')"
   ]
  },
  {
   "cell_type": "code",
   "execution_count": null,
   "metadata": {},
   "outputs": [],
   "source": [
    "# Para asignar valores de columnas a los ejes\n",
    "X = datos_agrupados[['id_Sucursal', 'anio']]\n",
    "Y = datos_agrupados['Monto_total']"
   ]
  },
  {
   "cell_type": "code",
   "execution_count": null,
   "metadata": {},
   "outputs": [],
   "source": [
    "from sklearn.model_selection import train_test_split\n",
    "X_train, X_test, Y_train, Y_test = train_test_split(X, Y, test_size=0.2, random_state=0)"
   ]
  },
  {
   "cell_type": "code",
   "execution_count": null,
   "metadata": {},
   "outputs": [],
   "source": [
    "modelo = LinearRegression()\n",
    "modelo.fit(X_train, Y_train)"
   ]
  },
  {
   "cell_type": "code",
   "execution_count": null,
   "metadata": {},
   "outputs": [],
   "source": [
    "X_prediccion = [[id_sucursal, año_siguiente] for id_sucursal in datos_agrupados['id_Sucursal'].unique()]\n",
    "predicciones = modelo.predict(X_prediccion)"
   ]
  },
  {
   "cell_type": "code",
   "execution_count": null,
   "metadata": {},
   "outputs": [],
   "source": [
    "predicciones_por_sucursal = pd.DataFrame({'id_Sucursal': datos_agrupados['id_Sucursal'].unique(), 'Prediccion': predicciones})\n",
    "print(predicciones_por_sucursal)"
   ]
  },
  {
   "cell_type": "code",
   "execution_count": null,
   "metadata": {},
   "outputs": [],
   "source": [
    "# Ventas por sucursal 2023\n",
    "fig, ax = plt.subplots(figsize=(10, 6))\n",
    "\n",
    "# Crear gráfico de barras agrupado por 'id_Sucursal'\n",
    "datos_agrupados.pivot(index='anio', columns='id_Sucursal', values='Monto_total').plot(kind='bar', ax=ax)\n",
    "\n",
    "# Personalizar el gráfico\n",
    "ax.set_xlabel('Año')\n",
    "ax.set_ylabel('Monto Total')\n",
    "ax.set_title('Monto Total por Sucursal 2023')\n",
    "\n",
    "# Mostrar el gráfico\n",
    "plt.show()"
   ]
  },
  {
   "cell_type": "code",
   "execution_count": null,
   "metadata": {},
   "outputs": [],
   "source": [
    "# Ventas por sucursal 2024\n",
    "fig, ax = plt.subplots(figsize=(10, 6))\n",
    "\n",
    "# Crear un gráfico de barras para las predicciones\n",
    "ax.bar(predicciones_por_sucursal['id_Sucursal'], predicciones_por_sucursal['Prediccion'])\n",
    "\n",
    "# Personalizar el gráfico\n",
    "ax.set_xlabel('ID de Sucursal')\n",
    "ax.set_ylabel('Monto Total Predicho')\n",
    "ax.set_title('Predicciones de Ventas por Sucursal 2024')\n",
    "\n",
    "# Mostrar el gráfico\n",
    "plt.show()"
   ]
  },
  {
   "cell_type": "code",
   "execution_count": null,
   "metadata": {},
   "outputs": [],
   "source": [
    "predicciones_por_sucursal.to_csv('predicciones_por_sucursal.csv')"
   ]
  }
 ],
 "metadata": {
  "kernelspec": {
   "display_name": "uteq-env",
   "language": "python",
   "name": "python3"
  },
  "language_info": {
   "codemirror_mode": {
    "name": "ipython",
    "version": 3
   },
   "file_extension": ".py",
   "mimetype": "text/x-python",
   "name": "python",
   "nbconvert_exporter": "python",
   "pygments_lexer": "ipython3",
   "version": "3.11.4"
  }
 },
 "nbformat": 4,
 "nbformat_minor": 2
}
